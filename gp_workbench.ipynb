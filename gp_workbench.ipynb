{
 "cells": [
  {
   "cell_type": "code",
   "execution_count": 1,
   "metadata": {},
   "outputs": [],
   "source": [
    "%matplotlib inline\n",
    "\n",
    "import matplotlib\n",
    "import numpy as np\n",
    "import pystan\n",
    "import matplotlib.pyplot as plt"
   ]
  },
  {
   "cell_type": "code",
   "execution_count": 2,
   "metadata": {},
   "outputs": [],
   "source": [
    "#   int<lower=1> N;              //number of units in fitting data\n",
    "#   int<lower=1> M;              //number of units in predict data\n",
    "#   int<lower=1> D;               // data dimension\n",
    "#   vector[D] x[N];                // data\n",
    "#   matrix[M, D] x_tilde;          // prediction data\n",
    "#   vector[N] y;                  // observed function values\n",
    "lb = 0.5\n",
    "ub = 2.5\n",
    "def fn(x):\n",
    "    y = np.sin(10 * np.pi * x) / (2 * x) + np.power(x - 1, 4.0)\n",
    "    return y\n",
    "\n",
    "N = 50\n",
    "M = 10\n",
    "x = np.random.uniform(low=lb, high=ub, size=N)\n",
    "x.sort()\n",
    "y = fn(x) + 0.01 * np.random.randn(N)\n",
    "x_tilde = np.random.uniform(low=lb, high=ub, size=M)\n",
    "x_tilde.sort()\n",
    "dat = {\"N\": N, \"M\": M, \"D\": 1,\n",
    "       \"x\": x.reshape((N, 1)),\n",
    "       \"x_tilde\": x_tilde.reshape((M, 1)), \n",
    "       \"y\": y,\n",
    "       \"y_var\": np.zeros_like(y)}"
   ]
  },
  {
   "cell_type": "code",
   "execution_count": 3,
   "metadata": {},
   "outputs": [
    {
     "name": "stderr",
     "output_type": "stream",
     "text": [
      "INFO:pystan:COMPILING THE C++ CODE FOR MODEL anon_model_9d3b67a3d93f21689fefa47431853c5d NOW.\n",
      "/Users/delkind/Desktop/full_bayes_opt/jpy/lib/python3.6/site-packages/pystan/misc.py:399: FutureWarning: Conversion of the second argument of issubdtype from `float` to `np.floating` is deprecated. In future, it will be treated as `np.float64 == np.dtype(float).type`.\n",
      "  elif np.issubdtype(np.asarray(v).dtype, float):\n"
     ]
    }
   ],
   "source": [
    "paramlist = [\"y_tilde\", \"rho\", \"alpha\", \"sigma\"]\n",
    "\n",
    "fit = pystan.stan(file = \"full_bayes_opt/gp_anisotropic_rbf_noiseless.stan\",\n",
    "                  data=dat, iter=500, pars=paramlist)"
   ]
  },
  {
   "cell_type": "code",
   "execution_count": 4,
   "metadata": {},
   "outputs": [
    {
     "name": "stdout",
     "output_type": "stream",
     "text": [
      "Inference for Stan model: anon_model_9d3b67a3d93f21689fefa47431853c5d.\n",
      "4 chains, each with iter=500; warmup=250; thin=1; \n",
      "post-warmup draws per chain=250, total post-warmup draws=1000.\n",
      "\n",
      "             mean se_mean     sd   2.5%    25%    50%    75%  97.5%  n_eff   Rhat\n",
      "y_tilde[0]  -0.47  9.1e-3   0.28  -1.05  -0.65  -0.47  -0.29    0.1    972    1.0\n",
      "y_tilde[1]   0.17  9.4e-3    0.3   -0.4  -0.02   0.17   0.37   0.76   1000    1.0\n",
      "y_tilde[2]  -0.09  9.5e-3   0.29  -0.66  -0.28  -0.09   0.09   0.49    936    1.0\n",
      "y_tilde[3]   0.23    0.01   0.31  -0.39   0.01   0.23   0.44   0.85    931    1.0\n",
      "y_tilde[4]   0.25  8.9e-3   0.28  -0.29   0.06   0.25   0.43   0.81   1000    1.0\n",
      "y_tilde[5]   0.63  9.5e-3   0.29   0.08   0.43   0.63   0.83   1.21    918    1.0\n",
      "y_tilde[6]    1.0  9.8e-3    0.3   0.41   0.81   1.01    1.2   1.58    926    1.0\n",
      "y_tilde[7]   2.84  8.8e-3   0.28   2.29   2.66   2.83   3.01    3.4   1000   1.01\n",
      "y_tilde[8]   3.16  9.1e-3   0.29   2.61   2.97   3.15   3.34    3.7   1000    1.0\n",
      "y_tilde[9]   4.12  9.3e-3   0.29   3.53   3.93   4.11   4.32   4.71   1000    1.0\n",
      "rho[0]       0.57  8.0e-3   0.11   0.38   0.49   0.55   0.63   0.83    194   1.01\n",
      "alpha        2.34    0.02    0.5   1.45   1.99    2.3   2.68   3.41    415    1.0\n",
      "sigma        0.29  1.1e-3   0.03   0.23   0.26   0.28   0.31   0.37   1000   1.01\n",
      "lp__         1.39    0.35   5.46 -10.51  -1.82   1.66   5.32  10.78    238   1.02\n",
      "\n",
      "Samples were drawn using NUTS at Fri Feb 23 21:27:44 2018.\n",
      "For each parameter, n_eff is a crude measure of effective sample size,\n",
      "and Rhat is the potential scale reduction factor on split chains (at \n",
      "convergence, Rhat=1).\n"
     ]
    }
   ],
   "source": [
    "print(fit)"
   ]
  },
  {
   "cell_type": "code",
   "execution_count": 5,
   "metadata": {},
   "outputs": [
    {
     "data": {
      "text/plain": [
       "<matplotlib.collections.PathCollection at 0x114d81f28>"
      ]
     },
     "execution_count": 5,
     "metadata": {},
     "output_type": "execute_result"
    },
    {
     "data": {
      "image/png": "[encoded data removed]",
      "text/plain": [
       "<matplotlib.figure.Figure at 0x114dfc668>"
      ]
     },
     "metadata": {},
     "output_type": "display_data"
    }
   ],
   "source": [
    "x_tru = np.linspace(lb, ub, 500)\n",
    "y_tru = fn(x_tru)\n",
    "\n",
    "y_pred = fit.extract(\"y_tilde\")[\"y_tilde\"].mean(axis=0)\n",
    "\n",
    "plt.plot(x_tru, y_tru)\n",
    "plt.plot(x, y)\n",
    "plt.scatter(x_tilde, y_pred)"
   ]
  }
 ],
 "metadata": {
  "kernelspec": {
   "display_name": "Python 3",
   "language": "python",
   "name": "python3"
  },
  "language_info": {
   "codemirror_mode": {
    "name": "ipython",
    "version": 3
   },
   "file_extension": ".py",
   "mimetype": "text/x-python",
   "name": "python",
   "nbconvert_exporter": "python",
   "pygments_lexer": "ipython3",
   "version": "3.6.2"
  }
 },
 "nbformat": 4,
 "nbformat_minor": 2
}
