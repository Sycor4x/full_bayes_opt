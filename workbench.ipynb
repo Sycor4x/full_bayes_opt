{
 "cells": [
  {
   "cell_type": "code",
   "execution_count": 1,
   "metadata": {},
   "outputs": [],
   "source": [
    "%matplotlib inline\n",
    "\n",
    "import matplotlib\n",
    "import numpy as np\n",
    "import pystan\n",
    "import matplotlib.pyplot as plt"
   ]
  },
  {
   "cell_type": "code",
   "execution_count": 2,
   "metadata": {},
   "outputs": [],
   "source": [
    "#   int<lower=1> N;              //number of units in fitting data\n",
    "#   int<lower=1> M;              //number of units in predict data\n",
    "#   int<lower=1> D;               // data dimension\n",
    "#   vector[D] x[N];                // data\n",
    "#   matrix[M, D] x_tilde;          // prediction data\n",
    "#   vector[N] y;                  // observed function values\n",
    "lb = 0.5\n",
    "ub = 2.5\n",
    "def fn(x):\n",
    "    y = np.sin(10 * np.pi * x) / (2 * x) + np.power(x - 1, 4.0)\n",
    "    return y\n",
    "\n",
    "N = 50\n",
    "M = 10\n",
    "x = np.random.uniform(low=lb, high=ub, size=N)\n",
    "x.sort()\n",
    "y = fn(x) + 0.01 * np.random.randn(N)\n",
    "x_tilde = np.random.uniform(low=lb, high=ub, size=M)\n",
    "x_tilde.sort()\n",
    "dat = {\"N\": N, \"M\": M, \"D\": 1,\n",
    "       \"x\": x.reshape((N, 1)),\n",
    "       \"x_tilde\": x_tilde.reshape((M, 1)), \n",
    "       \"y\": y,\n",
    "       \"y_var\": np.zeros_like(y)}"
   ]
  },
  {
   "cell_type": "code",
   "execution_count": 3,
   "metadata": {},
   "outputs": [
    {
     "name": "stderr",
     "output_type": "stream",
     "text": [
      "INFO:pystan:COMPILING THE C++ CODE FOR MODEL anon_model_9d3b67a3d93f21689fefa47431853c5d NOW.\n",
      "/Users/delkind/Desktop/full_bayes_opt/jpy/lib/python3.6/site-packages/pystan/misc.py:399: FutureWarning: Conversion of the second argument of issubdtype from `float` to `np.floating` is deprecated. In future, it will be treated as `np.float64 == np.dtype(float).type`.\n",
      "  elif np.issubdtype(np.asarray(v).dtype, float):\n"
     ]
    }
   ],
   "source": [
    "paramlist = [\"y_tilde\", \"rho\", \"alpha\", \"sigma\"]\n",
    "\n",
    "fit = pystan.stan(file = \"full_bayes_opt/gp_anisotropic_rbf_noise_free.stan\",\n",
    "                  data=dat, iter=500, pars=paramlist)"
   ]
  },
  {
   "cell_type": "code",
   "execution_count": 4,
   "metadata": {},
   "outputs": [
    {
     "name": "stdout",
     "output_type": "stream",
     "text": [
      "Inference for Stan model: anon_model_9d3b67a3d93f21689fefa47431853c5d.\n",
      "4 chains, each with iter=500; warmup=250; thin=1; \n",
      "post-warmup draws per chain=250, total post-warmup draws=1000.\n",
      "\n",
      "             mean se_mean     sd   2.5%    25%    50%    75%  97.5%  n_eff   Rhat\n",
      "y_tilde[0]  -0.03    0.01   0.36   -0.7  -0.27  -0.03    0.2   0.73    587    1.0\n",
      "y_tilde[1]   0.33    0.01   0.35  -0.37    0.1   0.34   0.57   0.98    890    1.0\n",
      "y_tilde[2]   0.05    0.01   0.34  -0.64  -0.17   0.05   0.27   0.73    938    1.0\n",
      "y_tilde[3]   -0.1    0.01   0.35  -0.79  -0.32  -0.11   0.12   0.62    924    1.0\n",
      "y_tilde[4]  -0.15    0.01   0.35  -0.83  -0.39  -0.15   0.09   0.54    873    1.0\n",
      "y_tilde[5]  -0.09    0.01   0.34  -0.76  -0.32  -0.08   0.15   0.57    955    1.0\n",
      "y_tilde[6]  -0.05    0.01   0.36  -0.72  -0.31  -0.04   0.17   0.68    928    1.0\n",
      "y_tilde[7]   0.38    0.01   0.36  -0.34   0.16   0.38   0.61    1.1   1000    1.0\n",
      "y_tilde[8]   0.75    0.01   0.34   0.12   0.52   0.76   0.96   1.44   1000    1.0\n",
      "y_tilde[9]   5.25    0.02   0.43   4.39   4.97   5.26   5.55   6.09    709    1.0\n",
      "rho[0]       0.59    0.01   0.16   0.38   0.47   0.55   0.68   0.95    143   1.02\n",
      "alpha        2.04    0.02   0.51   1.21   1.66   1.98   2.35    3.2    443    1.0\n",
      "sigma        0.34  1.3e-3   0.04   0.27   0.31   0.34   0.37   0.44   1000    1.0\n",
      "lp__        -6.39    0.29   5.39 -17.83  -9.69  -6.06  -2.58   2.98    353   1.01\n",
      "\n",
      "Samples were drawn using NUTS at Wed Feb 21 20:18:40 2018.\n",
      "For each parameter, n_eff is a crude measure of effective sample size,\n",
      "and Rhat is the potential scale reduction factor on split chains (at \n",
      "convergence, Rhat=1).\n"
     ]
    }
   ],
   "source": [
    "print(fit)"
   ]
  },
  {
   "cell_type": "code",
   "execution_count": 5,
   "metadata": {},
   "outputs": [
    {
     "data": {
      "text/plain": [
       "<matplotlib.collections.PathCollection at 0x114d869e8>"
      ]
     },
     "execution_count": 5,
     "metadata": {},
     "output_type": "execute_result"
    },
    {
     "data": {
      "image/png": "[encoded data removed]",
      "text/plain": [
       "<matplotlib.figure.Figure at 0x114dfa160>"
      ]
     },
     "metadata": {},
     "output_type": "display_data"
    }
   ],
   "source": [
    "x_tru = np.linspace(lb, ub, 500)\n",
    "y_tru = fn(x_tru)\n",
    "\n",
    "y_pred = fit.extract(\"y_tilde\")[\"y_tilde\"].mean(axis=0)\n",
    "\n",
    "plt.plot(x_tru, y_tru)\n",
    "plt.plot(x, y)\n",
    "plt.scatter(x_tilde, y_pred)"
   ]
  }
 ],
 "metadata": {
  "kernelspec": {
   "display_name": "Python 3",
   "language": "python",
   "name": "python3"
  },
  "language_info": {
   "codemirror_mode": {
    "name": "ipython",
    "version": 3
   },
   "file_extension": ".py",
   "mimetype": "text/x-python",
   "name": "python",
   "nbconvert_exporter": "python",
   "pygments_lexer": "ipython3",
   "version": "3.6.2"
  }
 },
 "nbformat": 4,
 "nbformat_minor": 2
}
