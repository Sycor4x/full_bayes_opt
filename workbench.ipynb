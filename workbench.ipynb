{
 "cells": [
  {
   "cell_type": "code",
   "execution_count": 1,
   "metadata": {},
   "outputs": [],
   "source": [
    "%matplotlib inline\n",
    "\n",
    "import matplotlib\n",
    "import numpy as np\n",
    "import pystan\n",
    "import matplotlib.pyplot as plt"
   ]
  },
  {
   "cell_type": "code",
   "execution_count": 2,
   "metadata": {},
   "outputs": [],
   "source": [
    "#   int<lower=1> N;              //number of units in fitting data\n",
    "#   int<lower=1> M;              //number of units in predict data\n",
    "#   int<lower=1> D;               // data dimension\n",
    "#   vector[D] x[N];                // data\n",
    "#   matrix[M, D] x_tilde;          // prediction data\n",
    "#   vector[N] y;                  // observed function values\n",
    "lb = 0.5\n",
    "ub = 2.5\n",
    "def fn(x):\n",
    "#    y = np.sin(10 * np.pi * x) / (2 * x) + np.power(x - 1, 4.0)\n",
    "    y = 2 * np.sin(x) - np.cos(5 * x)\n",
    "    return y\n",
    "\n",
    "N = 50\n",
    "M = 10\n",
    "x = np.random.uniform(low=lb, high=ub, size=N)\n",
    "x.sort()\n",
    "y = fn(x) + 0.001 * np.random.randn(N)\n",
    "x_tilde = np.random.uniform(low=lb, high=ub, size=M)\n",
    "x_tilde.sort()\n",
    "dat = {\"N\": N, \"M\": M, \"D\": 1,\n",
    "       \"x\": x.reshape((N, 1)),\n",
    "       \"x_tilde\": x_tilde.reshape((M, 1)), \n",
    "       \"y\": y}"
   ]
  },
  {
   "cell_type": "code",
   "execution_count": 3,
   "metadata": {},
   "outputs": [
    {
     "name": "stderr",
     "output_type": "stream",
     "text": [
      "INFO:pystan:COMPILING THE C++ CODE FOR MODEL anon_model_527b9850c4cde57fd289672197a862b3 NOW.\n",
      "/Users/delkind/Desktop/full_bayes_opt/jpy/lib/python3.6/site-packages/pystan/misc.py:399: FutureWarning: Conversion of the second argument of issubdtype from `float` to `np.floating` is deprecated. In future, it will be treated as `np.float64 == np.dtype(float).type`.\n",
      "  elif np.issubdtype(np.asarray(v).dtype, float):\n"
     ]
    }
   ],
   "source": [
    "paramlist = [\"y_tilde\", \"rho\", \"sigma\", \"alpha\"]\n",
    "fit = pystan.stan(file = \"full_bayes_opt/gp_anisotropic_gp.stan\",\n",
    "                  data=dat, iter=500, pars=paramlist)"
   ]
  },
  {
   "cell_type": "code",
   "execution_count": 4,
   "metadata": {},
   "outputs": [
    {
     "name": "stdout",
     "output_type": "stream",
     "text": [
      "Inference for Stan model: anon_model_527b9850c4cde57fd289672197a862b3.\n",
      "4 chains, each with iter=500; warmup=250; thin=1; \n",
      "post-warmup draws per chain=250, total post-warmup draws=1000.\n",
      "\n",
      "             mean se_mean     sd   2.5%    25%    50%    75%  97.5%  n_eff   Rhat\n",
      "y_tilde[0]   3.82  3.0e-5 9.5e-4   3.82   3.82   3.82   3.82   3.82   1000    nan\n",
      "y_tilde[1]   3.48  3.1e-5 9.8e-4   3.48   3.48   3.48   3.48   3.48   1000    nan\n",
      "y_tilde[2]   2.75  3.1e-5 9.5e-4   2.75   2.75   2.75   2.75   2.75    964    nan\n",
      "y_tilde[3]   2.67  3.1e-5 9.9e-4   2.67   2.67   2.67   2.67   2.67   1000    nan\n",
      "y_tilde[4]   2.58  3.2e-5 9.9e-4   2.58   2.58   2.58   2.58   2.58    962    nan\n",
      "y_tilde[5]   2.59  3.2e-510.0e-4   2.59   2.59   2.59   2.59   2.59    985    nan\n",
      "y_tilde[6]   4.57  3.2e-5 9.7e-4   4.56   4.56   4.57   4.57   4.57    914    nan\n",
      "y_tilde[7]   4.45  3.1e-5 9.6e-4   4.45   4.45   4.45   4.45   4.45    949    nan\n",
      "y_tilde[8]   4.03  3.5e-5 1.0e-3   4.03   4.03   4.03   4.03   4.04    883    1.0\n",
      "y_tilde[9]   2.83  3.1e-5 9.7e-4   2.83   2.83   2.83   2.83   2.83   1000    nan\n",
      "rho[0]       0.48    0.04   0.05    0.4   0.43   0.48   0.52   0.56      2   8.11\n",
      "sigma      9.7e-4  5.0e-5 1.2e-4 7.7e-4 8.8e-4 9.5e-4 1.0e-3 1.3e-3      6    nan\n",
      "alpha        1.34    0.25   0.35   0.78   0.99   1.48   1.68   1.75      2   7.62\n",
      "lp__       276.73    1.35   4.87 266.44 273.67 276.93 279.57 286.88     13    1.3\n",
      "\n",
      "Samples were drawn using NUTS at Wed Feb 21 16:41:55 2018.\n",
      "For each parameter, n_eff is a crude measure of effective sample size,\n",
      "and Rhat is the potential scale reduction factor on split chains (at \n",
      "convergence, Rhat=1).\n"
     ]
    }
   ],
   "source": [
    "print(fit)"
   ]
  },
  {
   "cell_type": "code",
   "execution_count": 5,
   "metadata": {},
   "outputs": [
    {
     "data": {
      "text/plain": [
       "<matplotlib.collections.PathCollection at 0x1155899e8>"
      ]
     },
     "execution_count": 5,
     "metadata": {},
     "output_type": "execute_result"
    },
    {
     "data": {
      "image/png": "[encoded data removed]",
      "text/plain": [
       "<matplotlib.figure.Figure at 0x1136f5cf8>"
      ]
     },
     "metadata": {},
     "output_type": "display_data"
    }
   ],
   "source": [
    "x_tru = np.linspace(lb, ub, 500)\n",
    "y_tru = fn(x_tru)\n",
    "\n",
    "y_pred = fit.extract(\"y_tilde\")[\"y_tilde\"].mean(axis=0)\n",
    "\n",
    "plt.plot(x_tru, y_tru)\n",
    "plt.plot(x, y)\n",
    "plt.scatter(x_tilde, y_pred)"
   ]
  }
 ],
 "metadata": {
  "kernelspec": {
   "display_name": "Python 3",
   "language": "python",
   "name": "python3"
  },
  "language_info": {
   "codemirror_mode": {
    "name": "ipython",
    "version": 3
   },
   "file_extension": ".py",
   "mimetype": "text/x-python",
   "name": "python",
   "nbconvert_exporter": "python",
   "pygments_lexer": "ipython3",
   "version": "3.6.2"
  }
 },
 "nbformat": 4,
 "nbformat_minor": 2
}
