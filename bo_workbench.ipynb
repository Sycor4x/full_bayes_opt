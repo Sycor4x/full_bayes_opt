{
 "cells": [
  {
   "cell_type": "code",
   "execution_count": 1,
   "metadata": {},
   "outputs": [],
   "source": [
    "%matplotlib inline\n",
    "\n",
    "import matplotlib\n",
    "import numpy as np\n",
    "import pystan\n",
    "import matplotlib.pyplot as plt\n",
    "import full_bayes_opt.main as bo"
   ]
  },
  {
   "cell_type": "code",
   "execution_count": 2,
   "metadata": {},
   "outputs": [],
   "source": [
    "lb = 0.5\n",
    "ub = 2.5\n",
    "def fn(x):\n",
    "    y = np.sin(10 * np.pi * x) / (2 * x) + np.power(x - 1, 4.0)\n",
    "    return y\n",
    "\n",
    "N = 2\n",
    "x = np.random.uniform(low=lb, high=ub, size=N).reshape((N,1))\n",
    "x.sort()\n",
    "y = fn(x).flatten()\n",
    "inital_data = {\"x\": x, \"y\": y}\n"
   ]
  },
  {
   "cell_type": "code",
   "execution_count": 3,
   "metadata": {},
   "outputs": [
    {
     "name": "stdout",
     "output_type": "stream",
     "text": [
      "Using cached StanModel\n"
     ]
    }
   ],
   "source": [
    "optim = bo.BayesianOptimizer(objective_function=fn, \n",
    "                             objective_function_initial_values=inital_data, \n",
    "                             bounding_box=[[0.5, 2.5]], \n",
    "                             acquisitor=bo.ExpectedImprovement(),\n",
    "                             stan_surrogate_model_path=\"full_bayes_opt/gp_anisotropic_rbf_noiseless.stan\")"
   ]
  },
  {
   "cell_type": "code",
   "execution_count": null,
   "metadata": {},
   "outputs": [],
   "source": []
  },
  {
   "cell_type": "code",
   "execution_count": null,
   "metadata": {},
   "outputs": [
    {
     "name": "stdout",
     "output_type": "stream",
     "text": [
      "{'x': array([[2.14481157],\n",
      "       [1.00755143]]), 'y': array([1.48762469, 0.11662744])}\n"
     ]
    },
    {
     "name": "stderr",
     "output_type": "stream",
     "text": [
      "/Users/delkind/Desktop/full_bayes_opt/jpy/lib/python3.6/site-packages/pystan/misc.py:399: FutureWarning: Conversion of the second argument of issubdtype from `float` to `np.floating` is deprecated. In future, it will be treated as `np.float64 == np.dtype(float).type`.\n",
      "  elif np.issubdtype(np.asarray(v).dtype, float):\n"
     ]
    }
   ],
   "source": [
    "print(inital_data)\n",
    "x_tru = np.linspace(lb, ub, 500)\n",
    "y_tru = fn(x_tru)\n",
    "for _ in range(16):\n",
    "    best_x, best_y = optim.fit(iter_opt=10)\n",
    "    plt.plot(x_tru, y_tru)\n",
    "    plt.scatter(float(best_x), best_y)\n",
    "    plt.scatter(optim.x.A, optim.y)"
   ]
  }
 ],
 "metadata": {
  "kernelspec": {
   "display_name": "Python 3",
   "language": "python",
   "name": "python3"
  },
  "language_info": {
   "codemirror_mode": {
    "name": "ipython",
    "version": 3
   },
   "file_extension": ".py",
   "mimetype": "text/x-python",
   "name": "python",
   "nbconvert_exporter": "python",
   "pygments_lexer": "ipython3",
   "version": "3.6.2"
  }
 },
 "nbformat": 4,
 "nbformat_minor": 2
}
